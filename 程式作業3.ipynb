{
  "nbformat": 4,
  "nbformat_minor": 0,
  "metadata": {
    "colab": {
      "provenance": []
    },
    "kernelspec": {
      "name": "python3",
      "display_name": "Python 3"
    },
    "language_info": {
      "name": "python"
    }
  },
  "cells": [
    {
      "cell_type": "code",
      "execution_count": 3,
      "metadata": {
        "colab": {
          "base_uri": "https://localhost:8080/"
        },
        "id": "bL6JiFWf9doW",
        "outputId": "e3f9cc25-e8cf-44ec-8ac4-be69c3f21309"
      },
      "outputs": [
        {
          "output_type": "stream",
          "name": "stdout",
          "text": [
            "陳則榮\n",
            "<class 'str'>\n",
            "B1205023\n",
            "<class 'str'>\n"
          ]
        }
      ],
      "source": [
        "a='陳則榮'\n",
        "b='B1205023'\n",
        "print(a)\n",
        "print(type(a))\n",
        "print(b)\n",
        "print(type(b))"
      ]
    },
    {
      "cell_type": "code",
      "source": [
        "me=['陳則榮','B1205023']\n",
        "print(me)"
      ],
      "metadata": {
        "colab": {
          "base_uri": "https://localhost:8080/"
        },
        "id": "pVB62xtU_csl",
        "outputId": "a9eec759-c629-4df2-d750-cd619b495787"
      },
      "execution_count": 4,
      "outputs": [
        {
          "output_type": "stream",
          "name": "stdout",
          "text": [
            "['陳則榮', 'B1205023']\n"
          ]
        }
      ]
    }
  ]
}